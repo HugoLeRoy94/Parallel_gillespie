{
 "cells": [
  {
   "cell_type": "code",
   "execution_count": 1,
   "metadata": {},
   "outputs": [],
   "source": [
    "import Parallel_Run\n",
    "import numpy as np"
   ]
  },
  {
   "cell_type": "code",
   "execution_count": 5,
   "metadata": {},
   "outputs": [],
   "source": [
    "import numpy as np\n",
    "from Cluster import Cluster\n",
    "from ISF import ISF\n",
    "from MSD import MSD\n",
    "from Energy import NRG\n",
    "from PCF import PCF\n",
    "from PCF import PCF_L\n",
    "from Time import Time\n",
    "\n",
    "# gillespie parameter\n",
    "Nlinker = 50\n",
    "ell_tot = 10**3\n",
    "kdiff = 0.1/ell_tot\n",
    "Energy = -15\n",
    "\n",
    "Nprocess = 100\n",
    "seeds = set()\n",
    "while len(seeds) < Nprocess:\n",
    "    seeds.add(np.random.randint(1000000))\n",
    "seeds = list(seeds)\n",
    "args = [[ell_tot,Energy,kdiff,seeds[_],Nlinker,3] for _ in range(Nprocess)]\n",
    "\n",
    "# argument of the different classes\n",
    "cluster_arg = tuple([3.]) # max distance\n",
    "MSD_arg = () # no argument \n",
    "ISF_arg = (1.,10) # q_norm, q_num_sample\n",
    "NRG_arg = ()\n",
    "PCF_arg = (np.sqrt(ell_tot)/2,50) # max_distance,numb_bin\n",
    "PCF_L_arg = (ell_tot,30) # max_distance,numb_bin\n",
    "Time_arg = ()\n",
    "\n",
    "measurement_args = {\n",
    "    'cluster': (Cluster, cluster_arg),\n",
    "    'MSD': (MSD, MSD_arg),\n",
    "    'ISF': (ISF, ISF_arg),\n",
    "    'PCF':(PCF,PCF_arg),\n",
    "    'PCF_L':(PCF_L,PCF_L_arg),\n",
    "    'NRG':(NRG,NRG_arg)#,\n",
    "    #'Time':(Time,Time_arg)\n",
    "    # Add other measurements as needed\n",
    "}\n",
    "\n",
    "measurement_flags = {\n",
    "    'NRG':True,\n",
    "    'Cluster': False,\n",
    "    'MSD': False,\n",
    "    'ISF': True,\n",
    "    'PCF':False,\n",
    "    'PCF_L':False#,\n",
    "    #'Time':True\n",
    "    # Set each measurement to True/False as desired\n",
    "}\n",
    "\n",
    "# Simulation parameters\n",
    "step_tot = 10**4\n",
    "#check_steps = 10**2\n",
    "initial_check_steps = 10**2\n",
    "coarse_grained_step = 10**1\n",
    "log_base=1.5\n",
    "media = \"/media/hcleroy/Simulation_Res/Parallel_Simulation_aging/time_equilibration_Nlinker/Batch_2/\""
   ]
  },
  {
   "cell_type": "code",
   "execution_count": 4,
   "metadata": {},
   "outputs": [],
   "source": [
    "Parallel_Run.parallel_evolution(args,step_tot,initial_check_steps,coarse_grained_step,media+'N50_L10E3_Early'+'.hdf',\n",
    "                                measurement_args,measurement_flags,log_base)"
   ]
  },
  {
   "cell_type": "code",
   "execution_count": 4,
   "metadata": {},
   "outputs": [],
   "source": []
  },
  {
   "cell_type": "code",
   "execution_count": 5,
   "metadata": {},
   "outputs": [],
   "source": [
    "kdiff = 0.01\n",
    "step_tot = 10**6\n",
    "initial_check_step = 5*10**3\n",
    "coarse_grained_step = 10**3\n",
    "args = [[ell_tot,Energy,kdiff,np.random.randint(1000000),Nlinker,3] for _ in range(Nprocess)]\n",
    "Parallel_Run.parallel_evolution(args,step_tot,initial_check_step,coarse_grained_step,'kdiff_001.hdf',\n",
    "                                cluster_arg,MSD_arg,ISF_arg,NRG_arg,PCF_arg,PCF_L_arg,log_base)"
   ]
  },
  {
   "cell_type": "code",
   "execution_count": 6,
   "metadata": {},
   "outputs": [],
   "source": [
    "kdiff = 0.001\n",
    "step_tot = 5*10**6\n",
    "initial_check_step = 10**4\n",
    "coarse_grained_step = 10**3\n",
    "args = [[ell_tot,Energy,kdiff,np.random.randint(1000000),Nlinker,3] for _ in range(Nprocess)]\n",
    "Parallel_Run.parallel_evolution(args,step_tot,initial_check_step,coarse_grained_step,'kdiff_001.hdf',\n",
    "                                cluster_arg,MSD_arg,ISF_arg,NRG_arg,PCF_arg,PCF_L_arg,log_base)"
   ]
  },
  {
   "cell_type": "code",
   "execution_count": 7,
   "metadata": {},
   "outputs": [],
   "source": [
    "kdiff = 0.01\n",
    "step_tot = 10**6\n",
    "initial_check_step = 5*10**3\n",
    "coarse_grained_step = 10**3\n",
    "args = [[ell_tot,Energy,kdiff,np.random.randint(1000000),Nlinker,3] for _ in range(Nprocess)]\n",
    "Parallel_Run.parallel_evolution(args,step_tot,initial_check_step,coarse_grained_step,'kdiff_001_real.hdf',\n",
    "                                cluster_arg,MSD_arg,ISF_arg,NRG_arg,PCF_arg,PCF_L_arg,log_base)"
   ]
  },
  {
   "cell_type": "code",
   "execution_count": 8,
   "metadata": {},
   "outputs": [],
   "source": [
    "kdiff = 0.01\n",
    "step_tot = 10**6\n",
    "initial_check_step = 5*10**3\n",
    "coarse_grained_step = 10**3\n",
    "Nlinker = 30\n",
    "args = [[ell_tot,Energy,kdiff,np.random.randint(1000000),Nlinker,3] for _ in range(Nprocess)]\n",
    "Parallel_Run.parallel_evolution(args,step_tot,initial_check_step,coarse_grained_step,'kdiff_001_N30.hdf',\n",
    "                                cluster_arg,MSD_arg,ISF_arg,NRG_arg,PCF_arg,PCF_L_arg,log_base)"
   ]
  },
  {
   "cell_type": "code",
   "execution_count": 9,
   "metadata": {},
   "outputs": [],
   "source": [
    "kdiff = 0.1\n",
    "step_tot = 5*10**5\n",
    "log_base=1.3\n",
    "initial_check_step = 5*10**3\n",
    "coarse_grained_step = 10**3\n",
    "args = [[ell_tot,Energy,kdiff,np.random.randint(1000000),Nlinker,3] for _ in range(Nprocess)]\n",
    "Parallel_Run.parallel_evolution(args,step_tot,initial_check_step,coarse_grained_step,'kdiff_01_N30.hdf',\n",
    "                                cluster_arg,MSD_arg,ISF_arg,NRG_arg,PCF_arg,PCF_L_arg,log_base)"
   ]
  },
  {
   "cell_type": "code",
   "execution_count": 3,
   "metadata": {},
   "outputs": [],
   "source": [
    "# gillespie parameter\n",
    "Nlinker = 20\n",
    "ell_tot = 10**3\n",
    "kdiff = 0.0005\n",
    "Energy = -15\n",
    "\n",
    "Nprocess = 100\n",
    "args = [[ell_tot,Energy,kdiff,np.random.randint(1000000),Nlinker,3] for _ in range(Nprocess)]\n",
    "\n",
    "# argument of the different classes\n",
    "cluster_arg = tuple([3.]) # max distance\n",
    "MSD_arg = () # no argument \n",
    "ISF_arg = (1.5,10) # q_norm, q_num_sample\n",
    "NRG_arg = ()\n",
    "PCF_arg = (np.sqrt(ell_tot),30) # max_distance,numb_bin\n",
    "PCF_L_arg = (ell_tot,30) # max_distance,numb_bin\n",
    "\n",
    "log_base = 1.5\n",
    "\n",
    "# Simulation parameters\n",
    "step_tot = 2*10**6\n",
    "#check_steps = 10**5\n",
    "initial_check_step = 2*10**4\n",
    "coarse_grained_step = 10**2"
   ]
  },
  {
   "cell_type": "code",
   "execution_count": 4,
   "metadata": {},
   "outputs": [],
   "source": [
    "Parallel_Run.parallel_evolution(args,step_tot,initial_check_step,coarse_grained_step,'kdiff_0005.hdf',\n",
    "                                cluster_arg,MSD_arg,ISF_arg,NRG_arg,PCF_arg,PCF_L_arg,log_base)"
   ]
  },
  {
   "cell_type": "code",
   "execution_count": 7,
   "metadata": {},
   "outputs": [],
   "source": [
    "# gillespie parameter\n",
    "Nlinker = 20\n",
    "ell_tot = 5*10**2\n",
    "kdiff = 100\n",
    "Energy = -15\n",
    "\n",
    "Nprocess = 200\n",
    "args = [[ell_tot,Energy,kdiff,np.random.randint(1000000),Nlinker,3] for _ in range(Nprocess)]\n",
    "\n",
    "# argument of the different classes\n",
    "cluster_arg = tuple([3.]) # max distance\n",
    "MSD_arg = () # no argument \n",
    "ISF_arg = (1.5,10) # q_norm, q_num_sample\n",
    "NRG_arg = ()\n",
    "PCF_arg = (np.sqrt(ell_tot),30) # max_distance,numb_bin\n",
    "PCF_L_arg = (ell_tot,30) # max_distance,numb_bin\n",
    "\n",
    "log_base = 1.5\n",
    "\n",
    "# Simulation parameters\n",
    "step_tot = 10**4\n",
    "#check_steps = 10**5\n",
    "initial_check_step = 10**3\n",
    "coarse_grained_step = 10**2"
   ]
  },
  {
   "cell_type": "code",
   "execution_count": 8,
   "metadata": {},
   "outputs": [],
   "source": [
    "Parallel_Run.parallel_evolution(args,step_tot,initial_check_step,coarse_grained_step,'kdiff_100.hdf',\n",
    "                                cluster_arg,MSD_arg,ISF_arg,NRG_arg,PCF_arg,PCF_L_arg,log_base)"
   ]
  },
  {
   "cell_type": "code",
   "execution_count": null,
   "metadata": {},
   "outputs": [],
   "source": []
  }
 ],
 "metadata": {
  "kernelspec": {
   "display_name": "Python 3",
   "language": "python",
   "name": "python3"
  },
  "language_info": {
   "codemirror_mode": {
    "name": "ipython",
    "version": 3
   },
   "file_extension": ".py",
   "mimetype": "text/x-python",
   "name": "python",
   "nbconvert_exporter": "python",
   "pygments_lexer": "ipython3",
   "version": "3.8.8"
  }
 },
 "nbformat": 4,
 "nbformat_minor": 2
}
