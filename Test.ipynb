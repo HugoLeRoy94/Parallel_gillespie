{
 "cells": [
  {
   "cell_type": "code",
   "execution_count": 1,
   "metadata": {},
   "outputs": [],
   "source": [
    "import importlib\n",
    "import numpy as np\n",
    "\n",
    "import Parallel_Run\n",
    "importlib.reload(Parallel_Run)\n",
    "Ec = lambda L,N : 3/2*np.log(L/N* np.pi/3)"
   ]
  },
  {
   "cell_type": "code",
   "execution_count": 2,
   "metadata": {},
   "outputs": [],
   "source": [
    "# gillespie parameter\n",
    "Nlinker = 20\n",
    "ell_tot = 10**3\n",
    "kdiff = 1.\n",
    "Energy = -15\n",
    "\n",
    "Nprocess = 1\n",
    "args = [[ell_tot,Energy,kdiff,np.random.randint(1000000),Nlinker,3] for _ in range(Nprocess)]\n",
    "\n",
    "# argument of the different classes\n",
    "cluster_arg = tuple([3.]) # max distance\n",
    "MSD_arg = () # no argument \n",
    "ISF_arg = (0.1,10) # q_norm, q_num_sample\n",
    "NRG_arg = ()\n",
    "PCF_arg = (np.sqrt(ell_tot),30) # max_distance,numb_bin\n",
    "\n",
    "# Simulation parameters\n",
    "step_tot = 10**3\n",
    "check_steps = 10**2\n",
    "coarse_grained_step = 10**1"
   ]
  },
  {
   "cell_type": "code",
   "execution_count": 3,
   "metadata": {},
   "outputs": [],
   "source": [
    "#args, step_tot, check_steps,coarse_grained_step,filename,cluster_arg,MSD_arg,ISF_arg,NRG_arg,PCF_arg\n",
    "Parallel_Run.parallel_evolution(args,step_tot,check_steps,coarse_grained_step,'Test.hdf',\n",
    "                                cluster_arg,MSD_arg,ISF_arg,NRG_arg,PCF_arg)"
   ]
  },
  {
   "cell_type": "code",
   "execution_count": 15,
   "metadata": {},
   "outputs": [],
   "source": [
    "import Reader\n",
    "importlib.reload(Reader)\n",
    "from Reader import CustomHDF5Reader"
   ]
  },
  {
   "cell_type": "code",
   "execution_count": 17,
   "metadata": {},
   "outputs": [
    {
     "name": "stdout",
     "output_type": "stream",
     "text": [
      "Group/Seed Hex: S0xb029\n",
      "File Header:\n",
      "file_header: This file computes the mean squared displacement. Parameters of the simulation:\n",
      "ell_tot = [1000, -15, 1.0, 45097, 20, 3]\n",
      "Energy = 1000\n",
      "kdiff = 100\n",
      "seed = 10\n",
      "Nlinker = (3.0,)\n",
      "dimension = ()\n",
      "step_tot = (0.1, 10)\n",
      "check_steps = ()\n",
      "q_norm = (31.622776601683793, 30)\n"
     ]
    }
   ],
   "source": [
    "Read = CustomHDF5Reader('Test.hdf')\n",
    "Read.open()\n",
    "Read.list_groups()\n",
    "Read.list_measurements('/S0xb029')\n",
    "Read.print_file_header()"
   ]
  }
 ],
 "metadata": {
  "kernelspec": {
   "display_name": "base",
   "language": "python",
   "name": "python3"
  },
  "language_info": {
   "codemirror_mode": {
    "name": "ipython",
    "version": 3
   },
   "file_extension": ".py",
   "mimetype": "text/x-python",
   "name": "python",
   "nbconvert_exporter": "python",
   "pygments_lexer": "ipython3",
   "version": "3.8.8"
  }
 },
 "nbformat": 4,
 "nbformat_minor": 2
}
