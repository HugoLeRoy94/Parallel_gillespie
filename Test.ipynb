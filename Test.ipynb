{
 "cells": [
  {
   "cell_type": "code",
   "execution_count": 1,
   "metadata": {},
   "outputs": [],
   "source": [
    "import importlib\n",
    "import numpy as np\n",
    "\n",
    "import Parallel_Run\n",
    "importlib.reload(Parallel_Run)\n",
    "\n",
    "import matplotlib.pyplot as plt\n",
    "\n",
    "Ec = lambda L,N : 3/2*np.log(L/N* np.pi/3)\n"
   ]
  },
  {
   "cell_type": "code",
   "execution_count": 34,
   "metadata": {},
   "outputs": [],
   "source": [
    "# gillespie parameter\n",
    "Nlinker = 20\n",
    "ell_tot = 10**3\n",
    "kdiff = 1.\n",
    "Energy = -15\n",
    "\n",
    "Nprocess = 30\n",
    "args = [[ell_tot,Energy,kdiff,np.random.randint(1000000),Nlinker,3] for _ in range(Nprocess)]\n",
    "\n",
    "# argument of the different classes\n",
    "cluster_arg = tuple([3.]) # max distance\n",
    "MSD_arg = () # no argument \n",
    "ISF_arg = (0.1,10) # q_norm, q_num_sample\n",
    "NRG_arg = ()\n",
    "PCF_arg = (np.sqrt(ell_tot),30) # max_distance,numb_bin\n",
    "\n",
    "# Simulation parameters\n",
    "step_tot = 10**4\n",
    "check_steps = 10**3\n",
    "coarse_grained_step = 10**1"
   ]
  },
  {
   "cell_type": "code",
   "execution_count": 35,
   "metadata": {},
   "outputs": [],
   "source": [
    "#args, step_tot, check_steps,coarse_grained_step,filename,cluster_arg,MSD_arg,ISF_arg,NRG_arg,PCF_arg\n",
    "Parallel_Run.parallel_evolution(args,step_tot,check_steps,coarse_grained_step,'Test.hdf',\n",
    "                                cluster_arg,MSD_arg,ISF_arg,NRG_arg,PCF_arg)"
   ]
  },
  {
   "cell_type": "code",
   "execution_count": 36,
   "metadata": {},
   "outputs": [],
   "source": [
    "import Reader\n",
    "importlib.reload(Reader)\n",
    "from Reader import CustomHDF5Reader"
   ]
  },
  {
   "cell_type": "code",
   "execution_count": 58,
   "metadata": {},
   "outputs": [],
   "source": [
    "class Data_Treatement:\n",
    "    def __init__(self,filename,data_type):\n",
    "        self.Read = CustomHDF5Reader(filename)\n",
    "        self.Read.open()\n",
    "        self.attributes = self.Read.get_header_attributes()\n",
    "        #print(self.Read.list_measurements(self.Read.list_groups()[0]))\n",
    "        if data_type not in self.Read.list_measurements(self.Read.list_groups()[0]):\n",
    "            raise ValueError('data_type unknown')\n",
    "        else:\n",
    "            # data shape :\n",
    "            # if the data is a scalar: data.shape = (Nsample,step_tot//coarse_steps)\n",
    "            # if it is a function: data.shape = (Nsample,step_tot//check_steps,check_steps//coarse_stetps)\n",
    "            self.data = np.array([self.Read.get_measurement_data(grp,data_type) for grp in self.Read.list_groups()])\n",
    "        if self.data[0].shape == self.Read.get_measurement_data(self.Read.list_groups()[0],\"Check_Time\").shape:\n",
    "            TimeType = \"Check_Time\"\n",
    "        elif self.data[0].shape == self.Read.get_measurement_data(self.Read.list_groups()[0],\"Coarse_Time\").shape:\n",
    "            TimeType = \"Coarse_Time\"\n",
    "        else:\n",
    "            print(self.data[0].shape)\n",
    "            print(self.Read.get_measurement_data(self.Read.list_groups()[0],\"Coarse_Time\").shape)\n",
    "            print(self.Read.get_measurement_data(self.Read.list_groups()[0],\"Check_Time\").shape)\n",
    "            raise ValueError('No time with correct shape found')\n",
    "        self.time = np.array([self.Read.get_measurement_data(grp,TimeType) for grp in self.Read.list_groups()])\n",
    "        self.Nsample = len(self.Read.list_groups())\n",
    "        self.Read.close()\n",
    "    def average(self,num_bins=100):\n",
    "        if len(self.time.shape)==2: # which mean average a scalar:\n",
    "            self.binned_time,self.average_data,self.variance = average_scalar(self.time,self.data,num_bins)\n",
    "        elif len(self.time.shape)==3: # for MSD and ISF for instance\n",
    "            self.binned_time,self.average_data,self.variance = np.zeros((self.data.shape[1],num_bins),dtype=float),np.zeros((self.data.shape[1],num_bins),dtype=float),np.zeros((self.data.shape[1],num_bins),dtype=float)\n",
    "            for index in range(self.data.shape[1]):\n",
    "                self.binned_time[index],self.average_data[index],self.variance[index] = average_scalar(self.time[:,index],self.data[:,index])\n",
    "        else:\n",
    "            raise IndexError('Invalid time shape')\n",
    "    \n",
    "def average_scalar(X, Y, num_bins=100):\n",
    "    bins = np.linspace(X.min(), X.max(), num_bins + 1)\n",
    "    bin_centers = (bins[:-1] + bins[1:]) / 2\n",
    "    average_scalar = np.zeros(num_bins)\n",
    "    variance_scalar = np.zeros(num_bins) + np.nan  # Initialize with NaN\n",
    "    \n",
    "    for i in range(num_bins):\n",
    "        scalar_values = []\n",
    "        for j in range(Y.shape[0]):\n",
    "            indices = np.digitize(X[j], bins) - 1\n",
    "            indices = np.clip(indices, 0, num_bins-1)\n",
    "            within_bin = Y[j][indices == i]\n",
    "            if within_bin.size > 0:\n",
    "                scalar_values.extend(within_bin)\n",
    "        if scalar_values:\n",
    "            average_scalar[i] = np.mean(scalar_values)\n",
    "            if len(scalar_values) > 1:  # Ensure at least two data points for variance\n",
    "                variance_scalar[i] = np.var(scalar_values, ddof=1)\n",
    "            else:\n",
    "                variance_scalar[i] = 0  # Or set to 0, if that's more appropriate for your analysis\n",
    "            \n",
    "    return bin_centers, average_scalar, variance_scalar\n",
    "    #bins = np.linspace(X.min(), X.max(), num_bins + 1)\n",
    "    #bin_centers = (bins[:-1] + bins[1:]) / 2\n",
    "    #average_scalar = np.zeros(num_bins)\n",
    "    #variance_scalar = np.zeros(num_bins)\n",
    "#\n",
    "    #for i in range(num_bins):\n",
    "    #    scalar_values = [][0]\n",
    "    #    for j in range(Y.shape[0]):\n",
    "    #        indices = np.digitize(X[j], bins) - 1  # Calculate bin indices\n",
    "    #        indices = np.clip(indices, 0, num_bins-1)  # Ensure indices are within valid range\n",
    "    #        within_bin = Y[j][indices == i]  # Select values within the current bin\n",
    "    #        if within_bin.size > 0:\n",
    "    #            scalar_values.extend(within_bin)\n",
    "    #    if scalar_values:\n",
    "    #        average_scalar[i] = np.mean(scalar_values)\n",
    "    #        variance_scalar[i] = np.var(scalar_values, ddof=1)  # ddof=1 for sample variance\n",
    "    #        \n",
    "    #return bin_centers, average_scalar,variance_scalar"
   ]
  },
  {
   "cell_type": "code",
   "execution_count": 59,
   "metadata": {},
   "outputs": [
    {
     "name": "stdout",
     "output_type": "stream",
     "text": [
      "ell_tot  1000\n",
      "Energy  -15\n",
      "kdiff  1.0\n",
      "seed  788168\n",
      "Nlinker  20\n",
      "dimension  3\n",
      "step_tot  10000\n",
      "check_steps  1000\n",
      "coarse_grained_step  10\n",
      "cluster_max_distance  (3.0,)\n",
      "MSD_args  ()\n",
      "ISF_q_norm  (0.1, 10)\n",
      "ISF_q_num_sample  ()\n",
      "NRG_args  (31.622776601683793, 30)\n"
     ]
    }
   ],
   "source": [
    "Read = CustomHDF5Reader('Test.hdf')\n",
    "Read.open()\n",
    "attributes = Read.get_header_attributes()\n",
    "for key,value in attributes.items():\n",
    "    print(key + '  '+str(value))\n",
    "#print(Read.list_groups())\n",
    "#print(Read.list_measurements( Read.list_groups()[0]))\n",
    "#print(Read.get_measurement_data(Read.list_groups()[0],'Check_Time'))\n",
    "Read.close()"
   ]
  },
  {
   "cell_type": "code",
   "execution_count": 60,
   "metadata": {},
   "outputs": [
    {
     "name": "stdout",
     "output_type": "stream",
     "text": [
      "(30, 10, 100)\n",
      "2\n"
     ]
    }
   ],
   "source": [
    "data = Data_Treatement('Test.hdf',\"MSD\")\n",
    "print(data.time.shape)\n",
    "data2 = Data_Treatement('Test.hdf',\"NRG\")\n",
    "print(len(data2.time.shape))"
   ]
  },
  {
   "cell_type": "code",
   "execution_count": 66,
   "metadata": {},
   "outputs": [
    {
     "data": {
      "text/plain": [
       "<matplotlib.collections.PolyCollection at 0x7fa00c5afbb0>"
      ]
     },
     "execution_count": 66,
     "metadata": {},
     "output_type": "execute_result"
    },
    {
     "data": {
      "image/png": "[encoded data removed]",
      "text/plain": [
       "<Figure size 640x480 with 1 Axes>"
      ]
     },
     "metadata": {},
     "output_type": "display_data"
    }
   ],
   "source": [
    "data2.average()\n",
    "data2.average_data.shape\n",
    "\n",
    "#for i in range(data2.Nsample):\n",
    " #    #for j in range(-1):#data.time[i].shape[0]):\n",
    "#     plt.plot((data2.time[i]),data2.data[i],color='black',alpha=0.3)\n",
    "plt.plot(data2.binned_time,data2.average_data)\n",
    "plt.fill_between(data2.binned_time, data2.average_data-np.sqrt(data2.variance), data2.average_data+np.sqrt(data2.variance), color='gray', alpha=0.6)\n",
    "#plt.xscale('log')"
   ]
  },
  {
   "cell_type": "code",
   "execution_count": null,
   "metadata": {},
   "outputs": [],
   "source": []
  }
 ],
 "metadata": {
  "kernelspec": {
   "display_name": "base",
   "language": "python",
   "name": "python3"
  },
  "language_info": {
   "codemirror_mode": {
    "name": "ipython",
    "version": 3
   },
   "file_extension": ".py",
   "mimetype": "text/x-python",
   "name": "python",
   "nbconvert_exporter": "python",
   "pygments_lexer": "ipython3",
   "version": "3.8.8"
  }
 },
 "nbformat": 4,
 "nbformat_minor": 2
}
