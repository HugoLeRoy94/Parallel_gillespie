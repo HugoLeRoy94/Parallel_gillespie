{
 "cells": [
  {
   "cell_type": "code",
   "execution_count": 1,
   "metadata": {},
   "outputs": [],
   "source": [
    "import numpy as np\n",
    "import sys\n",
    "sys.path.append('/home/hcleroy/PostDoc/aging_condensates/Simulation/Gillespie/Gillespie_backend/')\n",
    "sys.path.append('/home/hcleroy/aging_condensate/Gillespie/Gillespie_backend')\n",
    "sys.path.append('/home/hugo/PostDoc/aging_condensates/Gillespie/Gillespie_backend/')\n",
    "import Gillespie_backend as gil"
   ]
  },
  {
   "cell_type": "code",
   "execution_count": 2,
   "metadata": {},
   "outputs": [],
   "source": [
    "# gillespie parameter\n",
    "Nlinker = 2\n",
    "ell_tot = 10**3\n",
    "kdiff = 0.1\n",
    "Energy = -15\n",
    "\n",
    "Nprocess = 50\n",
    "args = [[ell_tot,Energy,kdiff,np.random.randint(1000000),Nlinker,3] for _ in range(Nprocess)]\n",
    "\n",
    "# argument of the different classes\n",
    "cluster_arg = tuple([3.]) # max distance\n",
    "MSD_arg = () # no argument \n",
    "ISF_arg = (1.,10) # q_norm, q_num_sample\n",
    "NRG_arg = ()\n",
    "PCF_arg = (np.sqrt(ell_tot)/2,50) # max_distance,numb_bin\n",
    "PCF_L_arg = (ell_tot,30) # max_distance,numb_bin\n",
    "\n",
    "# Simulation parameters\n",
    "step_tot = 10**4\n",
    "#check_steps = 10**2\n",
    "initial_check_steps = step_tot\n",
    "coarse_grained_step = 10**2\n",
    "log_base=1.5"
   ]
  },
  {
   "cell_type": "code",
   "execution_count": 3,
   "metadata": {},
   "outputs": [],
   "source": [
    "gillespie = gil.Gillespie(ell_tot = ell_tot, rho0=0.,BindingEnergy=Energy,kdiff=kdiff,seed=129874,sliding=False,Nlinker = 2,dimension=3)"
   ]
  },
  {
   "cell_type": "code",
   "execution_count": 8,
   "metadata": {},
   "outputs": [
    {
     "name": "stdout",
     "output_type": "stream",
     "text": [
      "-2531.0242469692907\n",
      "[]\n",
      "{0: 'unbind', 1: 'diffuse', 2: 'slide', 3: 'bind'}\n"
     ]
    }
   ],
   "source": [
    "print(gillespie.get_F())\n",
    "print(gillespie.get_ell_coordinates())\n",
    "print(gillespie.move_types)"
   ]
  },
  {
   "cell_type": "code",
   "execution_count": 4,
   "metadata": {},
   "outputs": [
    {
     "data": {
      "text/plain": [
       "(array([1, 1, 1, 1, 3, 0, 1, 1, 1, 3, 0, 1, 1, 3, 0, 1, 1, 1, 1, 3, 0, 1,\n",
       "        1, 1, 1, 1, 1, 3, 0, 1, 1, 1, 1, 3, 0, 1, 3, 0, 1, 1, 1, 1, 1, 3,\n",
       "        0, 1, 1, 1, 1, 1, 1, 1, 1, 1, 1, 1, 1, 1, 3, 0, 1, 3, 0, 1, 1, 1,\n",
       "        1, 3, 0, 1, 1, 1, 3, 0, 1, 1, 1, 1, 1, 1, 1, 3, 0, 1, 3, 0, 3, 0,\n",
       "        1, 1, 1, 3, 0, 1, 1, 1, 1, 1, 1, 1]),\n",
       " array([2.81927526e-06, 1.58152884e-06, 1.75599974e-06, 1.08583798e-07,\n",
       "        5.53622687e-06, 4.27541246e+00, 5.60732631e-06, 9.83848526e-07,\n",
       "        4.20258634e-06, 1.53682645e-06, 5.85381856e-01, 2.35070854e-06,\n",
       "        2.07193841e-08, 1.48428272e-06, 7.64399387e-01, 1.67150735e-06,\n",
       "        5.70834241e-07, 7.54507069e-06, 2.92079475e-08, 2.60026907e-06,\n",
       "        1.47098519e+00, 3.47113759e-06, 5.55365013e-06, 9.17121206e-06,\n",
       "        8.35485498e-07, 3.32778823e-07, 1.41929103e-06, 2.00261838e-06,\n",
       "        3.88166985e-01, 1.09443304e-07, 1.63297665e-06, 5.71899830e-07,\n",
       "        1.46168025e-06, 1.28250014e-07, 2.92185966e+00, 1.73999558e-07,\n",
       "        8.91903895e-08, 4.24546204e+00, 3.16489659e-06, 1.07564855e-06,\n",
       "        9.52910852e-07, 8.73209412e-07, 7.87773633e-06, 9.84189184e-07,\n",
       "        2.33352006e+00, 1.56791236e-06, 4.87119435e-07, 1.07652047e-06,\n",
       "        1.36956468e-06, 9.72537874e-07, 5.22498415e-07, 3.70836484e-07,\n",
       "        8.01456570e-06, 5.80399671e-07, 2.58100917e-06, 1.60358665e-06,\n",
       "        5.48303893e-07, 3.56679235e-06, 1.60521160e-06, 4.14768388e-02,\n",
       "        3.19457881e-07, 9.31750053e-07, 1.02897453e+00, 1.18962955e-06,\n",
       "        5.55796079e-06, 1.77300277e-06, 1.18603770e-05, 1.74052862e-06,\n",
       "        1.03306820e-01, 2.21568741e-06, 1.49928796e-06, 8.22180270e-07,\n",
       "        1.74148704e-06, 4.34839460e-01, 1.30740423e-06, 1.00992333e-06,\n",
       "        3.47238664e-07, 2.03933719e-06, 5.26105559e-06, 6.68964901e-07,\n",
       "        2.64316193e-06, 4.12492394e-06, 3.30339572e+00, 9.78242349e-07,\n",
       "        7.22266021e-06, 1.89855291e+00, 2.88538207e-06, 8.53600796e-01,\n",
       "        9.61486523e-08, 4.86140333e-06, 5.12222406e-06, 9.55054853e-07,\n",
       "        9.33340094e-01, 3.92404019e-06, 1.26442601e-06, 2.34938864e-06,\n",
       "        2.60765873e-06, 2.11407309e-07, 2.28617081e-06, 7.52095290e-07]))"
      ]
     },
     "execution_count": 4,
     "metadata": {},
     "output_type": "execute_result"
    }
   ],
   "source": [
    "gillespie.evolve(100)"
   ]
  },
  {
   "cell_type": "code",
   "execution_count": 5,
   "metadata": {},
   "outputs": [
    {
     "name": "stdout",
     "output_type": "stream",
     "text": [
      "[]\n",
      "[1000.]\n"
     ]
    }
   ],
   "source": [
    "print(gillespie.get_R())\n",
    "print(gillespie.get_ell())"
   ]
  },
  {
   "cell_type": "code",
   "execution_count": 6,
   "metadata": {},
   "outputs": [
    {
     "data": {
      "text/plain": [
       "array([[ 0.        ,  0.        ,  0.        ],\n",
       "       [ 5.49725139, -4.22988898, -6.17227422]])"
      ]
     },
     "execution_count": 6,
     "metadata": {},
     "output_type": "execute_result"
    }
   ],
   "source": [
    "gillespie.get_r()"
   ]
  },
  {
   "cell_type": "code",
   "execution_count": 7,
   "metadata": {},
   "outputs": [
    {
     "data": {
      "text/plain": [
       "1"
      ]
     },
     "execution_count": 7,
     "metadata": {},
     "output_type": "execute_result"
    }
   ],
   "source": [
    "gillespie.get_N_loop()"
   ]
  },
  {
   "cell_type": "code",
   "execution_count": null,
   "metadata": {},
   "outputs": [],
   "source": []
  }
 ],
 "metadata": {
  "kernelspec": {
   "display_name": "base",
   "language": "python",
   "name": "python3"
  },
  "language_info": {
   "codemirror_mode": {
    "name": "ipython",
    "version": 3
   },
   "file_extension": ".py",
   "mimetype": "text/x-python",
   "name": "python",
   "nbconvert_exporter": "python",
   "pygments_lexer": "ipython3",
   "version": "3.8.8"
  }
 },
 "nbformat": 4,
 "nbformat_minor": 2
}
