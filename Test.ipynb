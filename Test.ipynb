{
 "cells": [
  {
   "cell_type": "code",
   "execution_count": 1,
   "metadata": {},
   "outputs": [],
   "source": [
    "import importlib\n",
    "import numpy as np\n",
    "\n",
    "import Parallel_Run\n",
    "importlib.reload(Parallel_Run)\n",
    "\n",
    "import matplotlib.pyplot as plt\n",
    "\n",
    "Ec = lambda L,N : 3/2*np.log(L/N* np.pi/3)\n",
    "import cProfile\n",
    "import re\n"
   ]
  },
  {
   "cell_type": "code",
   "execution_count": 2,
   "metadata": {},
   "outputs": [],
   "source": [
    "# gillespie parameter\n",
    "Nlinker = 20\n",
    "ell_tot = 10**3\n",
    "kdiff = 1.\n",
    "Energy = -15\n",
    "\n",
    "Nprocess = 1\n",
    "args = [[ell_tot,Energy,kdiff,np.random.randint(1000000),Nlinker,3] for _ in range(Nprocess)]\n",
    "\n",
    "# argument of the different classes\n",
    "cluster_arg = tuple([3.]) # max distance\n",
    "MSD_arg = () # no argument \n",
    "ISF_arg = (0.1,10) # q_norm, q_num_sample\n",
    "NRG_arg = ()\n",
    "PCF_arg = (np.sqrt(ell_tot),30) # max_distance,numb_bin\n",
    "PCF_L_arg = (ell_tot,30) # max_distance,numb_bin\n",
    "\n",
    "# Simulation parameters\n",
    "step_tot = 10**4\n",
    "check_steps = 10**2\n",
    "initial_check_steps = 10**2\n",
    "coarse_grained_step = 10**1"
   ]
  },
  {
   "cell_type": "code",
   "execution_count": 3,
   "metadata": {},
   "outputs": [
    {
     "name": "stdout",
     "output_type": "stream",
     "text": [
      "[100, 200, 400, 800, 1600, 3200, 6400, 10000]\n"
     ]
    }
   ],
   "source": [
    "log_base = 2\n",
    "max_exponent = np.log(step_tot / initial_check_steps) / np.log(log_base)\n",
    "log_check_points = [int(initial_check_steps * log_base ** i) for i in range(int(max_exponent) + 1)]\n",
    "log_check_points.append(step_tot)\n",
    "print(log_check_points)"
   ]
  },
  {
   "cell_type": "code",
   "execution_count": 4,
   "metadata": {},
   "outputs": [],
   "source": [
    "#args, step_tot, check_steps,coarse_grained_step,filename,cluster_arg,MSD_arg,ISF_arg,NRG_arg,PCF_arg\n",
    "Parallel_Run.parallel_evolution(args,step_tot,check_steps,coarse_grained_step,'Test.hdf',\n",
    "                                cluster_arg,MSD_arg,ISF_arg,NRG_arg,PCF_arg,PCF_L_arg)"
   ]
  },
  {
   "cell_type": "code",
   "execution_count": null,
   "metadata": {},
   "outputs": [],
   "source": [
    "import Reader\n",
    "importlib.reload(Reader)\n",
    "from Reader import CustomHDF5Reader"
   ]
  },
  {
   "cell_type": "code",
   "execution_count": null,
   "metadata": {},
   "outputs": [],
   "source": [
    "Read = CustomHDF5Reader('Test.hdf')\n",
    "Read.open()\n",
    "attributes = Read.get_header_attributes()\n",
    "for key,value in attributes.items():\n",
    "    print(key + '  '+str(value))\n",
    "#print(Read.list_groups())\n",
    "print(Read.list_measurements( Read.list_groups()[0]))\n",
    "#print(Read.get_measurement_data(Read.list_groups()[0],'Check_Time'))\n",
    "Read.close()"
   ]
  },
  {
   "cell_type": "code",
   "execution_count": null,
   "metadata": {},
   "outputs": [],
   "source": [
    "from Data_Treatement import *"
   ]
  },
  {
   "cell_type": "code",
   "execution_count": null,
   "metadata": {},
   "outputs": [],
   "source": [
    "data = Data_Treatement('Test.hdf',\"PCF_L\")\n",
    "#data2 = Data_Treatement('Test.hdf',\"cluster\")\n",
    "#print(len(data2.time.shape))"
   ]
  },
  {
   "cell_type": "code",
   "execution_count": null,
   "metadata": {},
   "outputs": [],
   "source": [
    "for i in range(1):#data.data.shape[0]):\n",
    "    plt.plot(data.data[i,0][:,0],data.data[i,0][:,1],color='black')\n",
    "#for i in range(data.data.shape[0]):\n",
    "#    plt.plot(data.data[i,-1][:,0],data.data[i,-1][:,1],color='red')\n",
    "plt.xscale('log')"
   ]
  },
  {
   "cell_type": "code",
   "execution_count": null,
   "metadata": {},
   "outputs": [],
   "source": [
    "data2.average()\n",
    "data2.average_data.shape\n",
    "\n",
    "#for i in range(data2.Nsample):\n",
    " #    #for j in range(-1):#data.time[i].shape[0]):\n",
    "#     plt.plot((data2.time[i]),data2.data[i],color='black',alpha=0.3)\n",
    "plt.plot(data2.binned_time,data2.average_data)\n",
    "plt.fill_between(data2.binned_time, data2.average_data-np.sqrt(data2.variance), data2.average_data+np.sqrt(data2.variance), color='gray', alpha=0.6)\n",
    "#plt.xscale('log')"
   ]
  },
  {
   "cell_type": "code",
   "execution_count": null,
   "metadata": {},
   "outputs": [],
   "source": []
  }
 ],
 "metadata": {
  "kernelspec": {
   "display_name": "base",
   "language": "python",
   "name": "python3"
  },
  "language_info": {
   "codemirror_mode": {
    "name": "ipython",
    "version": 3
   },
   "file_extension": ".py",
   "mimetype": "text/x-python",
   "name": "python",
   "nbconvert_exporter": "python",
   "pygments_lexer": "ipython3",
   "version": "3.8.8"
  }
 },
 "nbformat": 4,
 "nbformat_minor": 2
}
