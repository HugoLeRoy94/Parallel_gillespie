{
 "cells": [
  {
   "cell_type": "code",
   "execution_count": 1,
   "metadata": {},
   "outputs": [],
   "source": [
    "import Parallel_Run\n",
    "import numpy as np"
   ]
  },
  {
   "cell_type": "code",
   "execution_count": 2,
   "metadata": {},
   "outputs": [],
   "source": [
    "# gillespie parameter\n",
    "Nlinker = 20\n",
    "ell_tot = 10**3\n",
    "kdiff = 1.#0.0005\n",
    "Energy = -15\n",
    "\n",
    "Nprocess = 50\n",
    "args = [[ell_tot,Energy,kdiff,np.random.randint(1000000),Nlinker,3] for _ in range(Nprocess)]\n",
    "\n",
    "# argument of the different classes\n",
    "cluster_arg = tuple([3.]) # max distance\n",
    "MSD_arg = () # no argument \n",
    "ISF_arg = (2.,20) # q_norm, q_num_sample\n",
    "NRG_arg = ()\n",
    "PCF_arg = (np.sqrt(ell_tot),30) # max_distance,numb_bin\n",
    "PCF_L_arg = (ell_tot,30) # max_distance,numb_bin\n",
    "\n",
    "log_base = 1.4\n",
    "\n",
    "# Simulation parameters\n",
    "step_tot = 10**5\n",
    "#check_steps = 10**5\n",
    "initial_check_step = 10**3\n",
    "coarse_grained_step = 10**3"
   ]
  },
  {
   "cell_type": "code",
   "execution_count": 3,
   "metadata": {},
   "outputs": [],
   "source": [
    "Parallel_Run.parallel_evolution(args,step_tot,initial_check_step,coarse_grained_step,'kdiff_1.hdf',\n",
    "                                cluster_arg,MSD_arg,ISF_arg,NRG_arg,PCF_arg,PCF_L_arg,log_base)"
   ]
  },
  {
   "cell_type": "code",
   "execution_count": 4,
   "metadata": {},
   "outputs": [],
   "source": [
    "kdiff = 0.1\n",
    "step_tot = 5*10**5\n",
    "log_base=1.3\n",
    "initial_check_step = 5*10**3\n",
    "coarse_grained_step = 10**3\n",
    "args = [[ell_tot,Energy,kdiff,np.random.randint(1000000),Nlinker,3] for _ in range(Nprocess)]\n",
    "Parallel_Run.parallel_evolution(args,step_tot,initial_check_step,coarse_grained_step,'kdiff_01.hdf',\n",
    "                                cluster_arg,MSD_arg,ISF_arg,NRG_arg,PCF_arg,PCF_L_arg,log_base)"
   ]
  },
  {
   "cell_type": "code",
   "execution_count": 5,
   "metadata": {},
   "outputs": [],
   "source": [
    "kdiff = 0.01\n",
    "step_tot = 10**6\n",
    "initial_check_step = 5*10**3\n",
    "coarse_grained_step = 10**3\n",
    "args = [[ell_tot,Energy,kdiff,np.random.randint(1000000),Nlinker,3] for _ in range(Nprocess)]\n",
    "Parallel_Run.parallel_evolution(args,step_tot,initial_check_step,coarse_grained_step,'kdiff_001.hdf',\n",
    "                                cluster_arg,MSD_arg,ISF_arg,NRG_arg,PCF_arg,PCF_L_arg,log_base)"
   ]
  },
  {
   "cell_type": "code",
   "execution_count": 6,
   "metadata": {},
   "outputs": [],
   "source": [
    "kdiff = 0.001\n",
    "step_tot = 5*10**6\n",
    "initial_check_step = 10**4\n",
    "coarse_grained_step = 10**3\n",
    "args = [[ell_tot,Energy,kdiff,np.random.randint(1000000),Nlinker,3] for _ in range(Nprocess)]\n",
    "Parallel_Run.parallel_evolution(args,step_tot,initial_check_step,coarse_grained_step,'kdiff_001.hdf',\n",
    "                                cluster_arg,MSD_arg,ISF_arg,NRG_arg,PCF_arg,PCF_L_arg,log_base)"
   ]
  },
  {
   "cell_type": "code",
   "execution_count": 7,
   "metadata": {},
   "outputs": [],
   "source": [
    "kdiff = 0.01\n",
    "step_tot = 10**6\n",
    "initial_check_step = 5*10**3\n",
    "coarse_grained_step = 10**3\n",
    "args = [[ell_tot,Energy,kdiff,np.random.randint(1000000),Nlinker,3] for _ in range(Nprocess)]\n",
    "Parallel_Run.parallel_evolution(args,step_tot,initial_check_step,coarse_grained_step,'kdiff_001_real.hdf',\n",
    "                                cluster_arg,MSD_arg,ISF_arg,NRG_arg,PCF_arg,PCF_L_arg,log_base)"
   ]
  },
  {
   "cell_type": "code",
   "execution_count": 8,
   "metadata": {},
   "outputs": [],
   "source": [
    "kdiff = 0.01\n",
    "step_tot = 10**6\n",
    "initial_check_step = 5*10**3\n",
    "coarse_grained_step = 10**3\n",
    "Nlinker = 30\n",
    "args = [[ell_tot,Energy,kdiff,np.random.randint(1000000),Nlinker,3] for _ in range(Nprocess)]\n",
    "Parallel_Run.parallel_evolution(args,step_tot,initial_check_step,coarse_grained_step,'kdiff_001_N30.hdf',\n",
    "                                cluster_arg,MSD_arg,ISF_arg,NRG_arg,PCF_arg,PCF_L_arg,log_base)"
   ]
  },
  {
   "cell_type": "code",
   "execution_count": 9,
   "metadata": {},
   "outputs": [],
   "source": [
    "kdiff = 0.1\n",
    "step_tot = 5*10**5\n",
    "log_base=1.3\n",
    "initial_check_step = 5*10**3\n",
    "coarse_grained_step = 10**3\n",
    "args = [[ell_tot,Energy,kdiff,np.random.randint(1000000),Nlinker,3] for _ in range(Nprocess)]\n",
    "Parallel_Run.parallel_evolution(args,step_tot,initial_check_step,coarse_grained_step,'kdiff_01_N30.hdf',\n",
    "                                cluster_arg,MSD_arg,ISF_arg,NRG_arg,PCF_arg,PCF_L_arg,log_base)"
   ]
  },
  {
   "cell_type": "code",
   "execution_count": 3,
   "metadata": {},
   "outputs": [],
   "source": [
    "# gillespie parameter\n",
    "Nlinker = 20\n",
    "ell_tot = 10**3\n",
    "kdiff = 0.0005\n",
    "Energy = -15\n",
    "\n",
    "Nprocess = 100\n",
    "args = [[ell_tot,Energy,kdiff,np.random.randint(1000000),Nlinker,3] for _ in range(Nprocess)]\n",
    "\n",
    "# argument of the different classes\n",
    "cluster_arg = tuple([3.]) # max distance\n",
    "MSD_arg = () # no argument \n",
    "ISF_arg = (1.5,10) # q_norm, q_num_sample\n",
    "NRG_arg = ()\n",
    "PCF_arg = (np.sqrt(ell_tot),30) # max_distance,numb_bin\n",
    "PCF_L_arg = (ell_tot,30) # max_distance,numb_bin\n",
    "\n",
    "log_base = 1.5\n",
    "\n",
    "# Simulation parameters\n",
    "step_tot = 2*10**6\n",
    "#check_steps = 10**5\n",
    "initial_check_step = 2*10**4\n",
    "coarse_grained_step = 10**2"
   ]
  },
  {
   "cell_type": "code",
   "execution_count": 4,
   "metadata": {},
   "outputs": [],
   "source": [
    "Parallel_Run.parallel_evolution(args,step_tot,initial_check_step,coarse_grained_step,'kdiff_0005.hdf',\n",
    "                                cluster_arg,MSD_arg,ISF_arg,NRG_arg,PCF_arg,PCF_L_arg,log_base)"
   ]
  },
  {
   "cell_type": "code",
   "execution_count": 7,
   "metadata": {},
   "outputs": [],
   "source": [
    "# gillespie parameter\n",
    "Nlinker = 20\n",
    "ell_tot = 5*10**2\n",
    "kdiff = 100\n",
    "Energy = -15\n",
    "\n",
    "Nprocess = 200\n",
    "args = [[ell_tot,Energy,kdiff,np.random.randint(1000000),Nlinker,3] for _ in range(Nprocess)]\n",
    "\n",
    "# argument of the different classes\n",
    "cluster_arg = tuple([3.]) # max distance\n",
    "MSD_arg = () # no argument \n",
    "ISF_arg = (1.5,10) # q_norm, q_num_sample\n",
    "NRG_arg = ()\n",
    "PCF_arg = (np.sqrt(ell_tot),30) # max_distance,numb_bin\n",
    "PCF_L_arg = (ell_tot,30) # max_distance,numb_bin\n",
    "\n",
    "log_base = 1.5\n",
    "\n",
    "# Simulation parameters\n",
    "step_tot = 10**4\n",
    "#check_steps = 10**5\n",
    "initial_check_step = 10**3\n",
    "coarse_grained_step = 10**2"
   ]
  },
  {
   "cell_type": "code",
   "execution_count": 8,
   "metadata": {},
   "outputs": [],
   "source": [
    "Parallel_Run.parallel_evolution(args,step_tot,initial_check_step,coarse_grained_step,'kdiff_100.hdf',\n",
    "                                cluster_arg,MSD_arg,ISF_arg,NRG_arg,PCF_arg,PCF_L_arg,log_base)"
   ]
  },
  {
   "cell_type": "code",
   "execution_count": null,
   "metadata": {},
   "outputs": [],
   "source": []
  }
 ],
 "metadata": {
  "kernelspec": {
   "display_name": "Python 3",
   "language": "python",
   "name": "python3"
  },
  "language_info": {
   "codemirror_mode": {
    "name": "ipython",
    "version": 3
   },
   "file_extension": ".py",
   "mimetype": "text/x-python",
   "name": "python",
   "nbconvert_exporter": "python",
   "pygments_lexer": "ipython3",
   "version": "3.10.12"
  }
 },
 "nbformat": 4,
 "nbformat_minor": 2
}
