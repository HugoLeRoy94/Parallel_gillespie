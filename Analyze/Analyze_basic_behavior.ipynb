{
 "cells": [
  {
   "cell_type": "code",
   "execution_count": 1,
   "metadata": {},
   "outputs": [],
   "source": [
    "import numpy as np\n",
    "import sys\n",
    "sys.path.append('/home/hcleroy/PostDoc/aging_condensates/Simulation/Gillespie/Gillespie_backend/')\n",
    "sys.path.append('/home/hcleroy/aging_condensate/Gillespie/Gillespie_backend')\n",
    "sys.path.append('/home/hugo/PostDoc/aging_condensates/Gillespie/Gillespie_backend/')\n",
    "import Gillespie_backend as gil"
   ]
  },
  {
   "cell_type": "code",
   "execution_count": 2,
   "metadata": {},
   "outputs": [],
   "source": [
    "# gillespie parameter\n",
    "Nlinker = 2\n",
    "ell_tot = 10**3\n",
    "kdiff = 1.\n",
    "Energy = -15\n",
    "\n",
    "Nprocess = 50\n",
    "args = [[ell_tot,Energy,kdiff,np.random.randint(1000000),Nlinker,3] for _ in range(Nprocess)]\n",
    "\n",
    "# argument of the different classes\n",
    "cluster_arg = tuple([3.]) # max distance\n",
    "MSD_arg = () # no argument \n",
    "ISF_arg = (1.,10) # q_norm, q_num_sample\n",
    "NRG_arg = ()\n",
    "PCF_arg = (np.sqrt(ell_tot)/2,50) # max_distance,numb_bin\n",
    "PCF_L_arg = (ell_tot,30) # max_distance,numb_bin\n",
    "\n",
    "# Simulation parameters\n",
    "step_tot = 10**4\n",
    "#check_steps = 10**2\n",
    "initial_check_steps = step_tot\n",
    "coarse_grained_step = 10**2\n",
    "log_base=1.5"
   ]
  },
  {
   "cell_type": "code",
   "execution_count": 3,
   "metadata": {},
   "outputs": [],
   "source": [
    "gillespie = gil.Gillespie(ell_tot = ell_tot, rho0=0.,BindingEnergy=Energy,kdiff=kdiff,seed=129874,sliding=False,Nlinker = 2,dimension=3)"
   ]
  },
  {
   "cell_type": "code",
   "execution_count": 241,
   "metadata": {},
   "outputs": [
    {
     "name": "stdout",
     "output_type": "stream",
     "text": [
      "-2546.0242469692907\n",
      "{0: 'unbind', 1: 'diffuse', 2: 'slide', 3: 'bind'}\n"
     ]
    }
   ],
   "source": [
    "print(gillespie.get_F())\n",
    "print(gillespie.move_types)"
   ]
  },
  {
   "cell_type": "code",
   "execution_count": 239,
   "metadata": {},
   "outputs": [
    {
     "data": {
      "text/plain": [
       "(array([0]), array([0.04698143]))"
      ]
     },
     "execution_count": 239,
     "metadata": {},
     "output_type": "execute_result"
    }
   ],
   "source": [
    "gillespie.evolve()"
   ]
  },
  {
   "cell_type": "code",
   "execution_count": 240,
   "metadata": {},
   "outputs": [
    {
     "name": "stdout",
     "output_type": "stream",
     "text": [
      "[[ -5.78143209  -3.10129832 -10.08489557]]\n",
      "[237. 763.]\n"
     ]
    }
   ],
   "source": [
    "print(gillespie.get_R())\n",
    "print(gillespie.get_ell())"
   ]
  },
  {
   "cell_type": "code",
   "execution_count": 24,
   "metadata": {},
   "outputs": [
    {
     "data": {
      "text/plain": [
       "3"
      ]
     },
     "execution_count": 24,
     "metadata": {},
     "output_type": "execute_result"
    }
   ],
   "source": [
    "gillespie.get_N_loop()"
   ]
  },
  {
   "cell_type": "code",
   "execution_count": null,
   "metadata": {},
   "outputs": [],
   "source": []
  }
 ],
 "metadata": {
  "kernelspec": {
   "display_name": "base",
   "language": "python",
   "name": "python3"
  },
  "language_info": {
   "codemirror_mode": {
    "name": "ipython",
    "version": 3
   },
   "file_extension": ".py",
   "mimetype": "text/x-python",
   "name": "python",
   "nbconvert_exporter": "python",
   "pygments_lexer": "ipython3",
   "version": "3.8.8"
  }
 },
 "nbformat": 4,
 "nbformat_minor": 2
}
