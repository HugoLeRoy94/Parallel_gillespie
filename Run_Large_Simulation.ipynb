{
 "cells": [
  {
   "cell_type": "code",
   "execution_count": 2,
   "metadata": {},
   "outputs": [],
   "source": [
    "import Parallel_Run\n",
    "import numpy as np"
   ]
  },
  {
   "cell_type": "code",
   "execution_count": 5,
   "metadata": {},
   "outputs": [],
   "source": [
    "# gillespie parameter\n",
    "Nlinker = 20\n",
    "ell_tot = 10**3\n",
    "kdiff = 0.01\n",
    "Energy = -15\n",
    "\n",
    "Nprocess = 100\n",
    "args = [[ell_tot,Energy,kdiff,np.random.randint(1000000),Nlinker,3] for _ in range(Nprocess)]\n",
    "\n",
    "# argument of the different classes\n",
    "cluster_arg = tuple([3.]) # max distance\n",
    "MSD_arg = () # no argument \n",
    "ISF_arg = (0.1,10) # q_norm, q_num_sample\n",
    "NRG_arg = ()\n",
    "PCF_arg = (np.sqrt(ell_tot),30,False) # max_distance,numb_bin\n",
    "PCF_L_arg = (ell_tot,30,False) # max_distance,numb_bin\n",
    "\n",
    "# Simulation parameters\n",
    "step_tot = 2*10**6\n",
    "check_steps = 10**5\n",
    "coarse_grained_step = 10**2"
   ]
  },
  {
   "cell_type": "code",
   "execution_count": 6,
   "metadata": {},
   "outputs": [],
   "source": [
    "Parallel_Run.parallel_evolution(args,step_tot,check_steps,coarse_grained_step,'kdiff_001.hdf',\n",
    "                                cluster_arg,MSD_arg,ISF_arg,NRG_arg,PCF_arg,PCF_L_arg)"
   ]
  },
  {
   "cell_type": "code",
   "execution_count": null,
   "metadata": {},
   "outputs": [],
   "source": [
    "# gillespie parameter\n",
    "Nlinker = 20\n",
    "ell_tot = 10**3\n",
    "kdiff = 0.1\n",
    "Energy = -15\n",
    "\n",
    "Nprocess = 100\n",
    "args = [[ell_tot,Energy,kdiff,np.random.randint(1000000),Nlinker,3] for _ in range(Nprocess)]\n",
    "\n",
    "# argument of the different classes\n",
    "cluster_arg = tuple([3.]) # max distance\n",
    "MSD_arg = () # no argument \n",
    "ISF_arg = (0.1,10) # q_norm, q_num_sample\n",
    "NRG_arg = ()\n",
    "PCF_arg = (np.sqrt(ell_tot),30,False) # max_distance,numb_bin\n",
    "PCF_L_arg = (ell_tot,30,False) # max_distance,numb_bin\n",
    "\n",
    "# Simulation parameters\n",
    "step_tot = 2*10**6\n",
    "check_steps = 10**5\n",
    "coarse_grained_step = 10**2"
   ]
  },
  {
   "cell_type": "code",
   "execution_count": null,
   "metadata": {},
   "outputs": [],
   "source": [
    "Parallel_Run.parallel_evolution(args,step_tot,check_steps,coarse_grained_step,'kdiff_01.hdf',\n",
    "                                cluster_arg,MSD_arg,ISF_arg,NRG_arg,PCF_arg,PCF_L_arg)"
   ]
  }
 ],
 "metadata": {
  "kernelspec": {
   "display_name": "Python 3",
   "language": "python",
   "name": "python3"
  },
  "language_info": {
   "codemirror_mode": {
    "name": "ipython",
    "version": 3
   },
   "file_extension": ".py",
   "mimetype": "text/x-python",
   "name": "python",
   "nbconvert_exporter": "python",
   "pygments_lexer": "ipython3",
   "version": "3.10.12"
  }
 },
 "nbformat": 4,
 "nbformat_minor": 2
}
